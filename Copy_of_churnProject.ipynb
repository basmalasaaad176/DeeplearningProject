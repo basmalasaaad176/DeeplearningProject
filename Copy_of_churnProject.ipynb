{
  "cells": [
    {
      "cell_type": "markdown",
      "metadata": {
        "id": "view-in-github",
        "colab_type": "text"
      },
      "source": [
        "<a href=\"https://colab.research.google.com/github/basmalasaaad176/DeeplearningProject/blob/main/Copy_of_churnProject.ipynb\" target=\"_parent\"><img src=\"https://colab.research.google.com/assets/colab-badge.svg\" alt=\"Open In Colab\"/></a>"
      ]
    },
    {
      "cell_type": "markdown",
      "metadata": {
        "id": "HecTV9aIuMN0"
      },
      "source": [
        "#**Bank Customer Churn Prediction**\n",
        "\n",
        "\n",
        "\n",
        "\n",
        "\n"
      ]
    },
    {
      "cell_type": "code",
      "execution_count": null,
      "metadata": {
        "colab": {
          "background_save": true
        },
        "id": "AVoDnAUjTZ_p"
      },
      "outputs": [],
      "source": [
        "import pandas as pd\n",
        "import numpy as np\n",
        "import seaborn as sns\n",
        "import matplotlib.pyplot as plt\n",
        "from sklearn.model_selection import train_test_split\n",
        "from sklearn.ensemble import RandomForestClassifier\n",
        "from sklearn.metrics import accuracy_score\n",
        "from sklearn.metrics import mean_absolute_error, mean_squared_error\n",
        "from sklearn.model_selection import GridSearchCV\n",
        "\n",
        "\n",
        "\n",
        "\n",
        "\n",
        "\n",
        "\n",
        "\n",
        "\n",
        "\n",
        "\n",
        "\n"
      ]
    },
    {
      "cell_type": "markdown",
      "metadata": {
        "id": "YBM70Qx-UWgj"
      },
      "source": [
        "# **Read the** **Data**"
      ]
    },
    {
      "cell_type": "code",
      "execution_count": null,
      "metadata": {
        "colab": {
          "background_save": true
        },
        "id": "pHXEzRJVN--A"
      },
      "outputs": [],
      "source": [
        "churn=pd.read_csv('/content/Churn_Modelling.csv')    #path of data.csv"
      ]
    },
    {
      "cell_type": "markdown",
      "metadata": {
        "id": "sIOjUWQouvPI"
      },
      "source": [
        "#**Explore , understand and get values of the dataset to plan data cleaning**\n",
        "\n"
      ]
    },
    {
      "cell_type": "code",
      "execution_count": null,
      "metadata": {
        "colab": {
          "base_uri": "https://localhost:8080/",
          "height": 427
        },
        "id": "vCaIiqzDOsLX",
        "outputId": "60b378d8-b65c-414d-a459-2b3bf5f07242"
      },
      "outputs": [
        {
          "data": {
            "text/html": [
              "\n",
              "  <div id=\"df-029a38c2-da19-4d6c-afe5-19ad2f3e54a4\">\n",
              "    <div class=\"colab-df-container\">\n",
              "      <div>\n",
              "<style scoped>\n",
              "    .dataframe tbody tr th:only-of-type {\n",
              "        vertical-align: middle;\n",
              "    }\n",
              "\n",
              "    .dataframe tbody tr th {\n",
              "        vertical-align: top;\n",
              "    }\n",
              "\n",
              "    .dataframe thead th {\n",
              "        text-align: right;\n",
              "    }\n",
              "</style>\n",
              "<table border=\"1\" class=\"dataframe\">\n",
              "  <thead>\n",
              "    <tr style=\"text-align: right;\">\n",
              "      <th></th>\n",
              "      <th>RowNumber</th>\n",
              "      <th>CustomerId</th>\n",
              "      <th>Surname</th>\n",
              "      <th>CreditScore</th>\n",
              "      <th>Geography</th>\n",
              "      <th>Gender</th>\n",
              "      <th>Age</th>\n",
              "      <th>Tenure</th>\n",
              "      <th>Balance</th>\n",
              "      <th>NumOfProducts</th>\n",
              "      <th>HasCrCard</th>\n",
              "      <th>IsActiveMember</th>\n",
              "      <th>EstimatedSalary</th>\n",
              "      <th>Exited</th>\n",
              "    </tr>\n",
              "  </thead>\n",
              "  <tbody>\n",
              "    <tr>\n",
              "      <th>0</th>\n",
              "      <td>1</td>\n",
              "      <td>15634602</td>\n",
              "      <td>Hargrave</td>\n",
              "      <td>619</td>\n",
              "      <td>France</td>\n",
              "      <td>Female</td>\n",
              "      <td>42.0</td>\n",
              "      <td>2</td>\n",
              "      <td>0.00</td>\n",
              "      <td>1</td>\n",
              "      <td>1</td>\n",
              "      <td>1</td>\n",
              "      <td>101348.88</td>\n",
              "      <td>1</td>\n",
              "    </tr>\n",
              "    <tr>\n",
              "      <th>1</th>\n",
              "      <td>2</td>\n",
              "      <td>15647311</td>\n",
              "      <td>Hill</td>\n",
              "      <td>608</td>\n",
              "      <td>Spain</td>\n",
              "      <td>Female</td>\n",
              "      <td>41.0</td>\n",
              "      <td>1</td>\n",
              "      <td>83807.86</td>\n",
              "      <td>1</td>\n",
              "      <td>0</td>\n",
              "      <td>1</td>\n",
              "      <td>112542.58</td>\n",
              "      <td>0</td>\n",
              "    </tr>\n",
              "    <tr>\n",
              "      <th>2</th>\n",
              "      <td>3</td>\n",
              "      <td>15619304</td>\n",
              "      <td>Onio</td>\n",
              "      <td>502</td>\n",
              "      <td>France</td>\n",
              "      <td>Female</td>\n",
              "      <td>42.0</td>\n",
              "      <td>8</td>\n",
              "      <td>159660.80</td>\n",
              "      <td>3</td>\n",
              "      <td>1</td>\n",
              "      <td>0</td>\n",
              "      <td>113931.57</td>\n",
              "      <td>1</td>\n",
              "    </tr>\n",
              "    <tr>\n",
              "      <th>3</th>\n",
              "      <td>4</td>\n",
              "      <td>15701354</td>\n",
              "      <td>Boni</td>\n",
              "      <td>699</td>\n",
              "      <td>France</td>\n",
              "      <td>Female</td>\n",
              "      <td>39.0</td>\n",
              "      <td>1</td>\n",
              "      <td>0.00</td>\n",
              "      <td>2</td>\n",
              "      <td>0</td>\n",
              "      <td>0</td>\n",
              "      <td>93826.63</td>\n",
              "      <td>0</td>\n",
              "    </tr>\n",
              "    <tr>\n",
              "      <th>4</th>\n",
              "      <td>5</td>\n",
              "      <td>15737888</td>\n",
              "      <td>Mitchell</td>\n",
              "      <td>850</td>\n",
              "      <td>Spain</td>\n",
              "      <td>Female</td>\n",
              "      <td>43.0</td>\n",
              "      <td>2</td>\n",
              "      <td>125510.82</td>\n",
              "      <td>1</td>\n",
              "      <td>1</td>\n",
              "      <td>1</td>\n",
              "      <td>79084.10</td>\n",
              "      <td>0</td>\n",
              "    </tr>\n",
              "    <tr>\n",
              "      <th>5</th>\n",
              "      <td>6</td>\n",
              "      <td>15574012</td>\n",
              "      <td>Chu</td>\n",
              "      <td>645</td>\n",
              "      <td>Spain</td>\n",
              "      <td>Male</td>\n",
              "      <td>44.0</td>\n",
              "      <td>8</td>\n",
              "      <td>113755.78</td>\n",
              "      <td>2</td>\n",
              "      <td>1</td>\n",
              "      <td>0</td>\n",
              "      <td>149756.71</td>\n",
              "      <td>1</td>\n",
              "    </tr>\n",
              "    <tr>\n",
              "      <th>6</th>\n",
              "      <td>7</td>\n",
              "      <td>15592531</td>\n",
              "      <td>Bartlett</td>\n",
              "      <td>822</td>\n",
              "      <td>France</td>\n",
              "      <td>Male</td>\n",
              "      <td>50.0</td>\n",
              "      <td>7</td>\n",
              "      <td>0.00</td>\n",
              "      <td>2</td>\n",
              "      <td>1</td>\n",
              "      <td>1</td>\n",
              "      <td>10062.80</td>\n",
              "      <td>0</td>\n",
              "    </tr>\n",
              "    <tr>\n",
              "      <th>7</th>\n",
              "      <td>8</td>\n",
              "      <td>15656148</td>\n",
              "      <td>Obinna</td>\n",
              "      <td>376</td>\n",
              "      <td>Germany</td>\n",
              "      <td>Female</td>\n",
              "      <td>29.0</td>\n",
              "      <td>4</td>\n",
              "      <td>115046.74</td>\n",
              "      <td>4</td>\n",
              "      <td>1</td>\n",
              "      <td>0</td>\n",
              "      <td>119346.88</td>\n",
              "      <td>1</td>\n",
              "    </tr>\n",
              "    <tr>\n",
              "      <th>8</th>\n",
              "      <td>9</td>\n",
              "      <td>15792365</td>\n",
              "      <td>He</td>\n",
              "      <td>501</td>\n",
              "      <td>France</td>\n",
              "      <td>Male</td>\n",
              "      <td>44.0</td>\n",
              "      <td>4</td>\n",
              "      <td>142051.07</td>\n",
              "      <td>2</td>\n",
              "      <td>0</td>\n",
              "      <td>1</td>\n",
              "      <td>74940.50</td>\n",
              "      <td>0</td>\n",
              "    </tr>\n",
              "    <tr>\n",
              "      <th>9</th>\n",
              "      <td>10</td>\n",
              "      <td>15592389</td>\n",
              "      <td>H?</td>\n",
              "      <td>684</td>\n",
              "      <td>France</td>\n",
              "      <td>Male</td>\n",
              "      <td>27.0</td>\n",
              "      <td>2</td>\n",
              "      <td>134603.88</td>\n",
              "      <td>1</td>\n",
              "      <td>1</td>\n",
              "      <td>1</td>\n",
              "      <td>71725.73</td>\n",
              "      <td>0</td>\n",
              "    </tr>\n",
              "  </tbody>\n",
              "</table>\n",
              "</div>\n",
              "      <button class=\"colab-df-convert\" onclick=\"convertToInteractive('df-029a38c2-da19-4d6c-afe5-19ad2f3e54a4')\"\n",
              "              title=\"Convert this dataframe to an interactive table.\"\n",
              "              style=\"display:none;\">\n",
              "        \n",
              "  <svg xmlns=\"http://www.w3.org/2000/svg\" height=\"24px\"viewBox=\"0 0 24 24\"\n",
              "       width=\"24px\">\n",
              "    <path d=\"M0 0h24v24H0V0z\" fill=\"none\"/>\n",
              "    <path d=\"M18.56 5.44l.94 2.06.94-2.06 2.06-.94-2.06-.94-.94-2.06-.94 2.06-2.06.94zm-11 1L8.5 8.5l.94-2.06 2.06-.94-2.06-.94L8.5 2.5l-.94 2.06-2.06.94zm10 10l.94 2.06.94-2.06 2.06-.94-2.06-.94-.94-2.06-.94 2.06-2.06.94z\"/><path d=\"M17.41 7.96l-1.37-1.37c-.4-.4-.92-.59-1.43-.59-.52 0-1.04.2-1.43.59L10.3 9.45l-7.72 7.72c-.78.78-.78 2.05 0 2.83L4 21.41c.39.39.9.59 1.41.59.51 0 1.02-.2 1.41-.59l7.78-7.78 2.81-2.81c.8-.78.8-2.07 0-2.86zM5.41 20L4 18.59l7.72-7.72 1.47 1.35L5.41 20z\"/>\n",
              "  </svg>\n",
              "      </button>\n",
              "      \n",
              "  <style>\n",
              "    .colab-df-container {\n",
              "      display:flex;\n",
              "      flex-wrap:wrap;\n",
              "      gap: 12px;\n",
              "    }\n",
              "\n",
              "    .colab-df-convert {\n",
              "      background-color: #E8F0FE;\n",
              "      border: none;\n",
              "      border-radius: 50%;\n",
              "      cursor: pointer;\n",
              "      display: none;\n",
              "      fill: #1967D2;\n",
              "      height: 32px;\n",
              "      padding: 0 0 0 0;\n",
              "      width: 32px;\n",
              "    }\n",
              "\n",
              "    .colab-df-convert:hover {\n",
              "      background-color: #E2EBFA;\n",
              "      box-shadow: 0px 1px 2px rgba(60, 64, 67, 0.3), 0px 1px 3px 1px rgba(60, 64, 67, 0.15);\n",
              "      fill: #174EA6;\n",
              "    }\n",
              "\n",
              "    [theme=dark] .colab-df-convert {\n",
              "      background-color: #3B4455;\n",
              "      fill: #D2E3FC;\n",
              "    }\n",
              "\n",
              "    [theme=dark] .colab-df-convert:hover {\n",
              "      background-color: #434B5C;\n",
              "      box-shadow: 0px 1px 3px 1px rgba(0, 0, 0, 0.15);\n",
              "      filter: drop-shadow(0px 1px 2px rgba(0, 0, 0, 0.3));\n",
              "      fill: #FFFFFF;\n",
              "    }\n",
              "  </style>\n",
              "\n",
              "      <script>\n",
              "        const buttonEl =\n",
              "          document.querySelector('#df-029a38c2-da19-4d6c-afe5-19ad2f3e54a4 button.colab-df-convert');\n",
              "        buttonEl.style.display =\n",
              "          google.colab.kernel.accessAllowed ? 'block' : 'none';\n",
              "\n",
              "        async function convertToInteractive(key) {\n",
              "          const element = document.querySelector('#df-029a38c2-da19-4d6c-afe5-19ad2f3e54a4');\n",
              "          const dataTable =\n",
              "            await google.colab.kernel.invokeFunction('convertToInteractive',\n",
              "                                                     [key], {});\n",
              "          if (!dataTable) return;\n",
              "\n",
              "          const docLinkHtml = 'Like what you see? Visit the ' +\n",
              "            '<a target=\"_blank\" href=https://colab.research.google.com/notebooks/data_table.ipynb>data table notebook</a>'\n",
              "            + ' to learn more about interactive tables.';\n",
              "          element.innerHTML = '';\n",
              "          dataTable['output_type'] = 'display_data';\n",
              "          await google.colab.output.renderOutput(dataTable, element);\n",
              "          const docLink = document.createElement('div');\n",
              "          docLink.innerHTML = docLinkHtml;\n",
              "          element.appendChild(docLink);\n",
              "        }\n",
              "      </script>\n",
              "    </div>\n",
              "  </div>\n",
              "  "
            ],
            "text/plain": [
              "   RowNumber  CustomerId   Surname  CreditScore Geography  Gender   Age  \\\n",
              "0          1    15634602  Hargrave          619    France  Female  42.0   \n",
              "1          2    15647311      Hill          608     Spain  Female  41.0   \n",
              "2          3    15619304      Onio          502    France  Female  42.0   \n",
              "3          4    15701354      Boni          699    France  Female  39.0   \n",
              "4          5    15737888  Mitchell          850     Spain  Female  43.0   \n",
              "5          6    15574012       Chu          645     Spain    Male  44.0   \n",
              "6          7    15592531  Bartlett          822    France    Male  50.0   \n",
              "7          8    15656148    Obinna          376   Germany  Female  29.0   \n",
              "8          9    15792365        He          501    France    Male  44.0   \n",
              "9         10    15592389        H?          684    France    Male  27.0   \n",
              "\n",
              "   Tenure    Balance  NumOfProducts  HasCrCard  IsActiveMember  \\\n",
              "0       2       0.00              1          1               1   \n",
              "1       1   83807.86              1          0               1   \n",
              "2       8  159660.80              3          1               0   \n",
              "3       1       0.00              2          0               0   \n",
              "4       2  125510.82              1          1               1   \n",
              "5       8  113755.78              2          1               0   \n",
              "6       7       0.00              2          1               1   \n",
              "7       4  115046.74              4          1               0   \n",
              "8       4  142051.07              2          0               1   \n",
              "9       2  134603.88              1          1               1   \n",
              "\n",
              "   EstimatedSalary  Exited  \n",
              "0        101348.88       1  \n",
              "1        112542.58       0  \n",
              "2        113931.57       1  \n",
              "3         93826.63       0  \n",
              "4         79084.10       0  \n",
              "5        149756.71       1  \n",
              "6         10062.80       0  \n",
              "7        119346.88       1  \n",
              "8         74940.50       0  \n",
              "9         71725.73       0  "
            ]
          },
          "execution_count": 3,
          "metadata": {},
          "output_type": "execute_result"
        }
      ],
      "source": [
        "churn.head(10)"
      ]
    },
    {
      "cell_type": "markdown",
      "metadata": {
        "id": "QmvXEi0RXZa8"
      },
      "source": [
        "#**Identify any potential problems, such as missing data or data types  are not compatible**\n"
      ]
    },
    {
      "cell_type": "code",
      "execution_count": null,
      "metadata": {
        "colab": {
          "base_uri": "https://localhost:8080/"
        },
        "id": "iSGbER-aXmaD",
        "outputId": "a4cd9f04-bd4a-4e1d-c9b9-0fa38962be01"
      },
      "outputs": [
        {
          "name": "stdout",
          "output_type": "stream",
          "text": [
            "<class 'pandas.core.frame.DataFrame'>\n",
            "RangeIndex: 4999 entries, 0 to 4998\n",
            "Data columns (total 14 columns):\n",
            " #   Column           Non-Null Count  Dtype  \n",
            "---  ------           --------------  -----  \n",
            " 0   RowNumber        4999 non-null   int64  \n",
            " 1   CustomerId       4999 non-null   int64  \n",
            " 2   Surname          4999 non-null   object \n",
            " 3   CreditScore      4999 non-null   int64  \n",
            " 4   Geography        4999 non-null   object \n",
            " 5   Gender           4999 non-null   object \n",
            " 6   Age              4877 non-null   float64\n",
            " 7   Tenure           4999 non-null   int64  \n",
            " 8   Balance          4999 non-null   float64\n",
            " 9   NumOfProducts    4999 non-null   int64  \n",
            " 10  HasCrCard        4999 non-null   int64  \n",
            " 11  IsActiveMember   4999 non-null   int64  \n",
            " 12  EstimatedSalary  4999 non-null   float64\n",
            " 13  Exited           4999 non-null   int64  \n",
            "dtypes: float64(3), int64(8), object(3)\n",
            "memory usage: 546.9+ KB\n"
          ]
        }
      ],
      "source": [
        "churn.info()"
      ]
    },
    {
      "cell_type": "markdown",
      "metadata": {
        "id": "aIuFZihyXxwv"
      },
      "source": [
        "#**summary of the statistical distribution of the data and identify outliers**\n",
        "\n"
      ]
    },
    {
      "cell_type": "code",
      "execution_count": null,
      "metadata": {
        "colab": {
          "base_uri": "https://localhost:8080/",
          "height": 300
        },
        "id": "YdIBLB-IX8oe",
        "outputId": "702037e8-1e7f-4563-d3c0-edd52ed015b2"
      },
      "outputs": [
        {
          "data": {
            "text/html": [
              "\n",
              "  <div id=\"df-fc0f7fb1-db88-4c82-8a8d-8e82c786172e\">\n",
              "    <div class=\"colab-df-container\">\n",
              "      <div>\n",
              "<style scoped>\n",
              "    .dataframe tbody tr th:only-of-type {\n",
              "        vertical-align: middle;\n",
              "    }\n",
              "\n",
              "    .dataframe tbody tr th {\n",
              "        vertical-align: top;\n",
              "    }\n",
              "\n",
              "    .dataframe thead th {\n",
              "        text-align: right;\n",
              "    }\n",
              "</style>\n",
              "<table border=\"1\" class=\"dataframe\">\n",
              "  <thead>\n",
              "    <tr style=\"text-align: right;\">\n",
              "      <th></th>\n",
              "      <th>RowNumber</th>\n",
              "      <th>CustomerId</th>\n",
              "      <th>CreditScore</th>\n",
              "      <th>Age</th>\n",
              "      <th>Tenure</th>\n",
              "      <th>Balance</th>\n",
              "      <th>NumOfProducts</th>\n",
              "      <th>HasCrCard</th>\n",
              "      <th>IsActiveMember</th>\n",
              "      <th>EstimatedSalary</th>\n",
              "      <th>Exited</th>\n",
              "    </tr>\n",
              "  </thead>\n",
              "  <tbody>\n",
              "    <tr>\n",
              "      <th>count</th>\n",
              "      <td>4999.000000</td>\n",
              "      <td>4.999000e+03</td>\n",
              "      <td>4999.000000</td>\n",
              "      <td>4877.000000</td>\n",
              "      <td>4999.000000</td>\n",
              "      <td>4999.000000</td>\n",
              "      <td>4999.000000</td>\n",
              "      <td>4999.000000</td>\n",
              "      <td>4999.000000</td>\n",
              "      <td>4999.000000</td>\n",
              "      <td>4999.000000</td>\n",
              "    </tr>\n",
              "    <tr>\n",
              "      <th>mean</th>\n",
              "      <td>2500.000000</td>\n",
              "      <td>1.569033e+07</td>\n",
              "      <td>650.258652</td>\n",
              "      <td>38.977035</td>\n",
              "      <td>5.009602</td>\n",
              "      <td>77067.346095</td>\n",
              "      <td>1.523105</td>\n",
              "      <td>0.708542</td>\n",
              "      <td>0.509902</td>\n",
              "      <td>100362.916121</td>\n",
              "      <td>0.209242</td>\n",
              "    </tr>\n",
              "    <tr>\n",
              "      <th>std</th>\n",
              "      <td>1443.231328</td>\n",
              "      <td>7.159303e+04</td>\n",
              "      <td>97.534561</td>\n",
              "      <td>10.590051</td>\n",
              "      <td>2.879727</td>\n",
              "      <td>62414.441541</td>\n",
              "      <td>0.582024</td>\n",
              "      <td>0.454480</td>\n",
              "      <td>0.499952</td>\n",
              "      <td>57698.234956</td>\n",
              "      <td>0.406808</td>\n",
              "    </tr>\n",
              "    <tr>\n",
              "      <th>min</th>\n",
              "      <td>1.000000</td>\n",
              "      <td>1.556570e+07</td>\n",
              "      <td>350.000000</td>\n",
              "      <td>18.000000</td>\n",
              "      <td>0.000000</td>\n",
              "      <td>0.000000</td>\n",
              "      <td>1.000000</td>\n",
              "      <td>0.000000</td>\n",
              "      <td>0.000000</td>\n",
              "      <td>11.580000</td>\n",
              "      <td>0.000000</td>\n",
              "    </tr>\n",
              "    <tr>\n",
              "      <th>25%</th>\n",
              "      <td>1250.500000</td>\n",
              "      <td>1.562816e+07</td>\n",
              "      <td>582.000000</td>\n",
              "      <td>32.000000</td>\n",
              "      <td>3.000000</td>\n",
              "      <td>0.000000</td>\n",
              "      <td>1.000000</td>\n",
              "      <td>0.000000</td>\n",
              "      <td>0.000000</td>\n",
              "      <td>50903.280000</td>\n",
              "      <td>0.000000</td>\n",
              "    </tr>\n",
              "    <tr>\n",
              "      <th>50%</th>\n",
              "      <td>2500.000000</td>\n",
              "      <td>1.569001e+07</td>\n",
              "      <td>652.000000</td>\n",
              "      <td>37.000000</td>\n",
              "      <td>5.000000</td>\n",
              "      <td>97473.870000</td>\n",
              "      <td>1.000000</td>\n",
              "      <td>1.000000</td>\n",
              "      <td>1.000000</td>\n",
              "      <td>100601.730000</td>\n",
              "      <td>0.000000</td>\n",
              "    </tr>\n",
              "    <tr>\n",
              "      <th>75%</th>\n",
              "      <td>3749.500000</td>\n",
              "      <td>1.575236e+07</td>\n",
              "      <td>717.500000</td>\n",
              "      <td>44.000000</td>\n",
              "      <td>7.000000</td>\n",
              "      <td>128034.365000</td>\n",
              "      <td>2.000000</td>\n",
              "      <td>1.000000</td>\n",
              "      <td>1.000000</td>\n",
              "      <td>149118.255000</td>\n",
              "      <td>0.000000</td>\n",
              "    </tr>\n",
              "    <tr>\n",
              "      <th>max</th>\n",
              "      <td>4999.000000</td>\n",
              "      <td>1.581566e+07</td>\n",
              "      <td>850.000000</td>\n",
              "      <td>88.000000</td>\n",
              "      <td>10.000000</td>\n",
              "      <td>250898.090000</td>\n",
              "      <td>4.000000</td>\n",
              "      <td>1.000000</td>\n",
              "      <td>1.000000</td>\n",
              "      <td>199970.740000</td>\n",
              "      <td>1.000000</td>\n",
              "    </tr>\n",
              "  </tbody>\n",
              "</table>\n",
              "</div>\n",
              "      <button class=\"colab-df-convert\" onclick=\"convertToInteractive('df-fc0f7fb1-db88-4c82-8a8d-8e82c786172e')\"\n",
              "              title=\"Convert this dataframe to an interactive table.\"\n",
              "              style=\"display:none;\">\n",
              "        \n",
              "  <svg xmlns=\"http://www.w3.org/2000/svg\" height=\"24px\"viewBox=\"0 0 24 24\"\n",
              "       width=\"24px\">\n",
              "    <path d=\"M0 0h24v24H0V0z\" fill=\"none\"/>\n",
              "    <path d=\"M18.56 5.44l.94 2.06.94-2.06 2.06-.94-2.06-.94-.94-2.06-.94 2.06-2.06.94zm-11 1L8.5 8.5l.94-2.06 2.06-.94-2.06-.94L8.5 2.5l-.94 2.06-2.06.94zm10 10l.94 2.06.94-2.06 2.06-.94-2.06-.94-.94-2.06-.94 2.06-2.06.94z\"/><path d=\"M17.41 7.96l-1.37-1.37c-.4-.4-.92-.59-1.43-.59-.52 0-1.04.2-1.43.59L10.3 9.45l-7.72 7.72c-.78.78-.78 2.05 0 2.83L4 21.41c.39.39.9.59 1.41.59.51 0 1.02-.2 1.41-.59l7.78-7.78 2.81-2.81c.8-.78.8-2.07 0-2.86zM5.41 20L4 18.59l7.72-7.72 1.47 1.35L5.41 20z\"/>\n",
              "  </svg>\n",
              "      </button>\n",
              "      \n",
              "  <style>\n",
              "    .colab-df-container {\n",
              "      display:flex;\n",
              "      flex-wrap:wrap;\n",
              "      gap: 12px;\n",
              "    }\n",
              "\n",
              "    .colab-df-convert {\n",
              "      background-color: #E8F0FE;\n",
              "      border: none;\n",
              "      border-radius: 50%;\n",
              "      cursor: pointer;\n",
              "      display: none;\n",
              "      fill: #1967D2;\n",
              "      height: 32px;\n",
              "      padding: 0 0 0 0;\n",
              "      width: 32px;\n",
              "    }\n",
              "\n",
              "    .colab-df-convert:hover {\n",
              "      background-color: #E2EBFA;\n",
              "      box-shadow: 0px 1px 2px rgba(60, 64, 67, 0.3), 0px 1px 3px 1px rgba(60, 64, 67, 0.15);\n",
              "      fill: #174EA6;\n",
              "    }\n",
              "\n",
              "    [theme=dark] .colab-df-convert {\n",
              "      background-color: #3B4455;\n",
              "      fill: #D2E3FC;\n",
              "    }\n",
              "\n",
              "    [theme=dark] .colab-df-convert:hover {\n",
              "      background-color: #434B5C;\n",
              "      box-shadow: 0px 1px 3px 1px rgba(0, 0, 0, 0.15);\n",
              "      filter: drop-shadow(0px 1px 2px rgba(0, 0, 0, 0.3));\n",
              "      fill: #FFFFFF;\n",
              "    }\n",
              "  </style>\n",
              "\n",
              "      <script>\n",
              "        const buttonEl =\n",
              "          document.querySelector('#df-fc0f7fb1-db88-4c82-8a8d-8e82c786172e button.colab-df-convert');\n",
              "        buttonEl.style.display =\n",
              "          google.colab.kernel.accessAllowed ? 'block' : 'none';\n",
              "\n",
              "        async function convertToInteractive(key) {\n",
              "          const element = document.querySelector('#df-fc0f7fb1-db88-4c82-8a8d-8e82c786172e');\n",
              "          const dataTable =\n",
              "            await google.colab.kernel.invokeFunction('convertToInteractive',\n",
              "                                                     [key], {});\n",
              "          if (!dataTable) return;\n",
              "\n",
              "          const docLinkHtml = 'Like what you see? Visit the ' +\n",
              "            '<a target=\"_blank\" href=https://colab.research.google.com/notebooks/data_table.ipynb>data table notebook</a>'\n",
              "            + ' to learn more about interactive tables.';\n",
              "          element.innerHTML = '';\n",
              "          dataTable['output_type'] = 'display_data';\n",
              "          await google.colab.output.renderOutput(dataTable, element);\n",
              "          const docLink = document.createElement('div');\n",
              "          docLink.innerHTML = docLinkHtml;\n",
              "          element.appendChild(docLink);\n",
              "        }\n",
              "      </script>\n",
              "    </div>\n",
              "  </div>\n",
              "  "
            ],
            "text/plain": [
              "         RowNumber    CustomerId  CreditScore          Age       Tenure  \\\n",
              "count  4999.000000  4.999000e+03  4999.000000  4877.000000  4999.000000   \n",
              "mean   2500.000000  1.569033e+07   650.258652    38.977035     5.009602   \n",
              "std    1443.231328  7.159303e+04    97.534561    10.590051     2.879727   \n",
              "min       1.000000  1.556570e+07   350.000000    18.000000     0.000000   \n",
              "25%    1250.500000  1.562816e+07   582.000000    32.000000     3.000000   \n",
              "50%    2500.000000  1.569001e+07   652.000000    37.000000     5.000000   \n",
              "75%    3749.500000  1.575236e+07   717.500000    44.000000     7.000000   \n",
              "max    4999.000000  1.581566e+07   850.000000    88.000000    10.000000   \n",
              "\n",
              "             Balance  NumOfProducts    HasCrCard  IsActiveMember  \\\n",
              "count    4999.000000    4999.000000  4999.000000     4999.000000   \n",
              "mean    77067.346095       1.523105     0.708542        0.509902   \n",
              "std     62414.441541       0.582024     0.454480        0.499952   \n",
              "min         0.000000       1.000000     0.000000        0.000000   \n",
              "25%         0.000000       1.000000     0.000000        0.000000   \n",
              "50%     97473.870000       1.000000     1.000000        1.000000   \n",
              "75%    128034.365000       2.000000     1.000000        1.000000   \n",
              "max    250898.090000       4.000000     1.000000        1.000000   \n",
              "\n",
              "       EstimatedSalary       Exited  \n",
              "count      4999.000000  4999.000000  \n",
              "mean     100362.916121     0.209242  \n",
              "std       57698.234956     0.406808  \n",
              "min          11.580000     0.000000  \n",
              "25%       50903.280000     0.000000  \n",
              "50%      100601.730000     0.000000  \n",
              "75%      149118.255000     0.000000  \n",
              "max      199970.740000     1.000000  "
            ]
          },
          "execution_count": 79,
          "metadata": {},
          "output_type": "execute_result"
        }
      ],
      "source": [
        "churn.describe()"
      ]
    },
    {
      "cell_type": "markdown",
      "metadata": {
        "id": "CI0m_GZ2uwo6"
      },
      "source": [
        "#**Remove unwanted columns 'RowNumber' and 'Surname' and 'CustomerId'**\n",
        "\n",
        "\n"
      ]
    },
    {
      "cell_type": "code",
      "execution_count": null,
      "metadata": {
        "id": "xMK5PUaLqH1f"
      },
      "outputs": [],
      "source": [
        "#The axis=1 argument tells Pandas to drop the columns, rather than the rows.\n",
        "churn = churn.drop(['RowNumber', 'Surname','CustomerId'], axis=1)\n",
        "\n",
        "#The index=False argument tells Pandas not to include the index column in the .csv file.\n",
        "churn.to_csv('Churn_Modelling.csv', index=False)"
      ]
    },
    {
      "cell_type": "markdown",
      "metadata": {
        "id": "8Usp5SENBbHn"
      },
      "source": [
        "#**Verify that the removal was successful**\n",
        "\n",
        "\n"
      ]
    },
    {
      "cell_type": "code",
      "execution_count": null,
      "metadata": {
        "colab": {
          "base_uri": "https://localhost:8080/"
        },
        "id": "Cj37plZzBbVK",
        "outputId": "2bbad9f0-ea70-4216-f0b0-c21dbe7b3260"
      },
      "outputs": [
        {
          "name": "stdout",
          "output_type": "stream",
          "text": [
            "The RowNumber ,Surname and CustomerId columns have been removed.\n"
          ]
        }
      ],
      "source": [
        "if 'RowNumber' not in churn and 'Surname' not in churn and 'CustomerId' not in churn:\n",
        "    print('The RowNumber ,Surname and CustomerId columns have been removed.')\n",
        "\n",
        "else:\n",
        "    print('The RowNumber , Surname and CustomerId columns have not been removed.')"
      ]
    },
    {
      "cell_type": "markdown",
      "metadata": {
        "id": "IuZSxICk7YOq"
      },
      "source": [
        "# **Replace the missing value in column 'Age' with mean**"
      ]
    },
    {
      "cell_type": "code",
      "execution_count": null,
      "metadata": {
        "id": "J53Z3jnisYWc"
      },
      "outputs": [],
      "source": [
        "# 'inplace=True' argument  will make changes to the DataFrame without creating a new one.\n",
        "churn['Age'].fillna(churn['Age'].mean(), inplace=True)"
      ]
    },
    {
      "cell_type": "markdown",
      "metadata": {
        "id": "3rEEFU4TuzVQ"
      },
      "source": [
        "# **check if  'Age' column have no missing value**"
      ]
    },
    {
      "cell_type": "code",
      "execution_count": null,
      "metadata": {
        "colab": {
          "base_uri": "https://localhost:8080/"
        },
        "id": "pwvEILOdt2Ic",
        "outputId": "25f70d8f-8f70-4466-e23d-2ee7e6c59fca"
      },
      "outputs": [
        {
          "name": "stdout",
          "output_type": "stream",
          "text": [
            "There is no missing value in the \"Age\" column.\n"
          ]
        }
      ],
      "source": [
        "#the any() method is  to check if any element in the isnull() method of the Age column of the DataFrame churn is true.\n",
        "if churn['Age'].isnull().any():\n",
        "    print('There is a missing value in the \"Age\" column.')\n",
        "\n",
        "else:\n",
        "    print('There is no missing value in the \"Age\" column.')"
      ]
    },
    {
      "cell_type": "markdown",
      "metadata": {
        "id": "6hGk0wXgu0G8"
      },
      "source": [
        "# **Convert 'Gender' column from text to numeric**"
      ]
    },
    {
      "cell_type": "code",
      "execution_count": null,
      "metadata": {
        "id": "a7cx0KByu1vi"
      },
      "outputs": [],
      "source": [
        "# Create a dictionary to map gender to a number\n",
        "gender_map = {'Male': 0, 'Female': 1}\n",
        "\n",
        "# Convert the gender column to a number by replacing all instances of \"Male\"  with 0 and all instances of \"Female\"  with 1.\n",
        "churn['Gender'] = churn['Gender'].map(gender_map)\n",
        "\n",
        "# Write the DataFrame to a new .csv file\n",
        "churn.to_csv('Churn_Modelling.csv', index=False)"
      ]
    },
    {
      "cell_type": "markdown",
      "metadata": {
        "id": "9BJyWUeOvI6r"
      },
      "source": [
        "# **Check if the 'gender' column is now numeric**\n"
      ]
    },
    {
      "cell_type": "code",
      "execution_count": null,
      "metadata": {
        "colab": {
          "base_uri": "https://localhost:8080/"
        },
        "id": "HXQdN5tovSNx",
        "outputId": "5a9ac8d2-045f-47cb-db56-79893ee77b3e"
      },
      "outputs": [
        {
          "name": "stdout",
          "output_type": "stream",
          "text": [
            "The gender column is now numeric.\n"
          ]
        }
      ],
      "source": [
        "# dtype--> get the data type of the object\n",
        "if churn['Gender'].dtype == 'int64':\n",
        "    print('The gender column is now numeric.')\n",
        "\n",
        "else:\n",
        "    print('The gender column is not numeric.')"
      ]
    },
    {
      "cell_type": "markdown",
      "metadata": {
        "id": "HaR4DPdeAr_e"
      },
      "source": [
        "# **Convert 'Geography' column from text to numeric**"
      ]
    },
    {
      "cell_type": "code",
      "execution_count": null,
      "metadata": {
        "id": "gwBgknNCvnsv"
      },
      "outputs": [],
      "source": [
        "# Create a dictionary to map Geography to a number\n",
        "Geography_map = {'France': 1, 'Spain': 2, 'Germany': 3}\n",
        "\n",
        "# Convert the Geography column to a number\n",
        "churn['Geography'] = churn['Geography'].map(Geography_map)\n",
        "\n",
        "# Write the DataFrame to a new .csv file\n",
        "churn.to_csv('Churn_Modelling.csv', index=False)"
      ]
    },
    {
      "cell_type": "markdown",
      "metadata": {
        "id": "uuGTB5fnvQPz"
      },
      "source": [
        "# **Check  Geography column  become numeric**"
      ]
    },
    {
      "cell_type": "code",
      "execution_count": null,
      "metadata": {
        "colab": {
          "base_uri": "https://localhost:8080/"
        },
        "id": "hJyTU2Inv_8V",
        "outputId": "726caa45-9000-4da8-f925-5de7246c94db"
      },
      "outputs": [
        {
          "name": "stdout",
          "output_type": "stream",
          "text": [
            "The Geography column is now numeric.\n"
          ]
        }
      ],
      "source": [
        "# dtype--> get the data type of the object\n",
        "if churn['Geography'].dtype == 'int64':\n",
        "    print('The Geography column is now numeric.')\n",
        "\n",
        "else:\n",
        "    print('The Geography column is not numeric.')"
      ]
    },
    {
      "cell_type": "markdown",
      "metadata": {
        "id": "2w-rnwGSKFKm"
      },
      "source": [
        "#**Visualization**"
      ]
    },
    {
      "cell_type": "markdown",
      "metadata": {
        "id": "PD8JgSOgctvY"
      },
      "source": [
        "#**Scatter chart**"
      ]
    },
    {
      "cell_type": "code",
      "execution_count": null,
      "metadata": {
        "colab": {
          "base_uri": "https://localhost:8080/",
          "height": 508
        },
        "id": "snNdSSiChCD8",
        "outputId": "7b390274-0ce9-403e-cd2e-e96f7c051a27"
      },
      "outputs": [
        {
          "data": {
            "image/png": "[encoded data removed]",
            "text/plain": [
              "<Figure size 640x480 with 1 Axes>"
            ]
          },
          "metadata": {},
          "output_type": "display_data"
        },
        {
          "name": "stdout",
          "output_type": "stream",
          "text": [
            "\n",
            "The correlation between Balance and Exited is 0.09857033062219635\n"
          ]
        }
      ],
      "source": [
        "# Create the scatter plot\n",
        "plt.scatter(churn['Balance'], churn['Exited'])\n",
        "\n",
        "# Set the title and labels\n",
        "plt.title('Scatter Plot of Balance vs Exited')\n",
        "plt.xlabel('Balance')\n",
        "plt.ylabel('Exited')\n",
        "\n",
        "# Show the plot\n",
        "plt.show()\n",
        "\n",
        "# Print the result of the chart\n",
        "print('\\nThe correlation between Balance and Exited is', churn['Balance'].corr(churn['Exited']))"
      ]
    },
    {
      "cell_type": "markdown",
      "metadata": {
        "id": "y5fLHqkrci8J"
      },
      "source": [
        "#**Bar chart**"
      ]
    },
    {
      "cell_type": "code",
      "execution_count": null,
      "metadata": {
        "colab": {
          "base_uri": "https://localhost:8080/",
          "height": 472
        },
        "id": "0AGt30kRaGTu",
        "outputId": "842080d1-a8e8-43c5-895a-ec5b1dedbf01"
      },
      "outputs": [
        {
          "data": {
            "image/png": "[encoded data removed]",
            "text/plain": [
              "<Figure size 640x480 with 1 Axes>"
            ]
          },
          "metadata": {},
          "output_type": "display_data"
        }
      ],
      "source": [
        "# Group the data by geography and count the number of exited customers by geography\n",
        "exited_by_geography = churn.groupby('Geography')['Exited'].sum()\n",
        "\n",
        "#The index attribute-->  names of the geographies ,The values attribute--> number of exited customers for each geography.\n",
        "# Create a bar chart of the exited customers by geography\n",
        "plt.bar(exited_by_geography.index, exited_by_geography)\n",
        "\n",
        "# Set the title and labels\n",
        "plt.title('Number of Exited Customers by Geography')\n",
        "plt.xlabel('Geography')\n",
        "plt.ylabel('Number of Exited Customers')\n",
        "\n",
        "# Show the plot\n",
        "plt.show()"
      ]
    },
    {
      "cell_type": "markdown",
      "metadata": {
        "id": "lF7xvxyilCxC"
      },
      "source": [
        "#**Pie chart for Gender column**"
      ]
    },
    {
      "cell_type": "code",
      "execution_count": null,
      "metadata": {
        "colab": {
          "base_uri": "https://localhost:8080/",
          "height": 448
        },
        "id": "pZqT_wH6lLdC",
        "outputId": "632e4dbf-181b-4d56-ae68-3a173f055491"
      },
      "outputs": [
        {
          "data": {
            "image/png": "[encoded data removed]",
            "text/plain": [
              "<Figure size 640x480 with 1 Axes>"
            ]
          },
          "metadata": {},
          "output_type": "display_data"
        }
      ],
      "source": [
        " #Group the data by gender and count the number of exited customers\n",
        "exited_by_gender = churn.groupby('Gender')['Exited'].sum()\n",
        "\n",
        "# Calculate the percentage of exited customers by gender\n",
        "percentage_exited_by_gender = exited_by_gender / len(churn)\n",
        "\n",
        "\n",
        "#The len()--> returns the length of a pandas series , The labels-->the names of the genders\n",
        "# Create a pie chart of the percentage of exited customers by gender\n",
        "plt.pie(percentage_exited_by_gender, labels=exited_by_gender.index)\n",
        "\n",
        "# Set the title and labels\n",
        "plt.title('Percentage of Exited Customers by Gender')\n",
        "plt.xlabel('Gender')\n",
        "plt.ylabel('Percentage of Exited Customers')\n",
        "\n",
        "# Show the plot\n",
        "plt.show()"
      ]
    },
    {
      "cell_type": "markdown",
      "metadata": {
        "id": "pY13Khyeo7ji"
      },
      "source": [
        "#**Histogram chart**"
      ]
    },
    {
      "cell_type": "code",
      "execution_count": null,
      "metadata": {
        "colab": {
          "base_uri": "https://localhost:8080/",
          "height": 564
        },
        "id": "DkThCObypIyb",
        "outputId": "9ea0a3d4-4f9f-4a56-b610-8649517e0e72"
      },
      "outputs": [
        {
          "data": {
            "image/png": "[encoded data removed]",
            "text/plain": [
              "<Figure size 600x600 with 1 Axes>"
            ]
          },
          "metadata": {},
          "output_type": "display_data"
        }
      ],
      "source": [
        "#creates a figure and an axes object. The axes object is used to plot the data.\n",
        "#plt.subplots()--> takes two arguments: the figure size , the number of rows and columns .\n",
        "fig, ax = plt.subplots(figsize=(6, 6))\n",
        "\n",
        "# Create the countplot , the hue variable--> the column that is used to color the bars\n",
        "sns.countplot(x='Geography', hue = 'Exited',data = churn, ax=ax)\n",
        "\n",
        "# Set the title and labels\n",
        "plt.title('Count of Customers by Geography and Churn Status')\n",
        "plt.xlabel('Geography')\n",
        "plt.ylabel('Count of Customers')\n",
        "\n",
        "# Show the plot\n",
        "plt.show()"
      ]
    },
    {
      "cell_type": "markdown",
      "metadata": {
        "id": "a-Ty6Ok_yeL1"
      },
      "source": [
        "**Pie chart for Exited**"
      ]
    },
    {
      "cell_type": "code",
      "execution_count": null,
      "metadata": {
        "colab": {
          "base_uri": "https://localhost:8080/",
          "height": 406
        },
        "id": "QMklkQ-yyvl8",
        "outputId": "d116e8f2-4a5b-4399-970d-2c3d32cc63ef"
      },
      "outputs": [
        {
          "data": {
            "image/png": "[encoded data removed]",
            "text/plain": [
              "<Figure size 640x480 with 1 Axes>"
            ]
          },
          "metadata": {},
          "output_type": "display_data"
        }
      ],
      "source": [
        "#autopct='%1.1f%%'-->format the percentages in the pie chart to one decimal place and to add a percent sign (%)\n",
        "\n",
        "churn['Exited'].value_counts().plot.pie(autopct='%1.1f%%')\n",
        "\n",
        "# Show the plot\n",
        "plt.show()"
      ]
    },
    {
      "cell_type": "markdown",
      "metadata": {
        "id": "RBf6uIzFHC0q"
      },
      "source": [
        "\\# **Split the DataFrame into a training set=75% and a testing set=25%**\n"
      ]
    },
    {
      "cell_type": "code",
      "execution_count": null,
      "metadata": {
        "colab": {
          "base_uri": "https://localhost:8080/"
        },
        "id": "FVR6gOzlxwc3",
        "outputId": "0aab376a-2fa1-4478-a4f4-e2f8d43fbe06"
      },
      "outputs": [
        {
          "name": "stdout",
          "output_type": "stream",
          "text": [
            "(3749, 10)\n",
            "(1250, 10)\n"
          ]
        }
      ],
      "source": [
        "#The x variable --> independent variables,\n",
        "X = churn.drop('Exited', axis=1)\n",
        "\n",
        "#The y variable --> dependent'Target' variable.\n",
        "y = churn['Exited']\n",
        "\n",
        "#The random_state parameter is used to ensure that the data is split randomly.\n",
        "X_train, X_test, y_train, y_test = train_test_split(X, y, test_size=0.25, random_state=42)\n",
        "\n",
        "# Print the shape of the training set-->(row,column)\n",
        "print(X_train.shape)\n",
        "\n",
        "# Print the shape of the testing set-->(row,column)\n",
        "print(X_test.shape)"
      ]
    },
    {
      "cell_type": "markdown",
      "metadata": {
        "id": "YiiSgda2jNH0"
      },
      "source": [
        "#**Execute the Model**"
      ]
    },
    {
      "cell_type": "code",
      "execution_count": null,
      "metadata": {
        "colab": {
          "base_uri": "https://localhost:8080/"
        },
        "id": "r1oTpTkA3EnR",
        "outputId": "4bec4b01-5a54-4308-c8bd-d156d0905acd"
      },
      "outputs": [
        {
          "name": "stdout",
          "output_type": "stream",
          "text": [
            "Enter a value for the column \"CreditScore\": 1\n",
            "Enter a value for the column \"Geography\": 1\n",
            "Enter a value for the column \"Gender\": 1\n",
            "Enter a value for the column \"Age\": 1\n",
            "Enter a value for the column \"Tenure\": 1\n",
            "Enter a value for the column \"Balance\": 1\n",
            "Enter a value for the column \"NumOfProducts\": 1\n",
            "Enter a value for the column \"HasCrCard\": 1\n",
            "Enter a value for the column \"IsActiveMember\": 1\n",
            "Enter a value for the column \"EstimatedSalary\": 1\n",
            "The customer is predicted to not churn\n"
          ]
        }
      ],
      "source": [
        "\"\"\"\n",
        "\n",
        "# Define the features and target variable\n",
        "features = X\n",
        "target = y\n",
        "# Train the random forest classifier\n",
        "rf_classifier = RandomForestClassifier()\n",
        "rf_classifier.fit(features, target)\n",
        "\n",
        "# Now, when predicting, ensure that the feature names match the ones used during training\n",
        "\n",
        "# Ask the user to enter values for all columns except Exited\n",
        "churn = pd.DataFrame(columns=features.columns)\n",
        "for column in churn.columns:\n",
        "    user_input = input('Enter a value for the column \"{}\": '.format(column))\n",
        "    churn[column] = [float(user_input)]\n",
        "\n",
        "# Predict whether the customer will churn\n",
        "prediction = rf_classifier.predict(churn)\n",
        "\n",
        "# Print the prediction\n",
        "print('The customer is predicted to', 'churn' if prediction[0] == 1 else 'not churn')\n",
        "\"\"\""
      ]
    },
    {
      "cell_type": "markdown",
      "metadata": {
        "id": "wIaPSh4Lg-h3"
      },
      "source": [
        "#**Random Forest Model**\n"
      ]
    },
    {
      "cell_type": "code",
      "execution_count": null,
      "metadata": {
        "colab": {
          "base_uri": "https://localhost:8080/"
        },
        "id": "YY0N1aAXg-2W",
        "outputId": "00fd3cdc-0ee2-435f-ac4e-5e481a6304c6"
      },
      "outputs": [
        {
          "name": "stdout",
          "output_type": "stream",
          "text": [
            "Accuracy: 0.8728\n",
            "\n",
            "Mean absolute error: 0.1272\n"
          ]
        }
      ],
      "source": [
        "\"\"\"\"\n",
        "# Create a Random Forest classifier\n",
        "# n_estimators=100 --> 100 decision trees\n",
        "rf_classifier = RandomForestClassifier(n_estimators=200,random_state=42)\n",
        "\n",
        "# fit-->Train the model\n",
        "rf_classifier.fit(X_train, y_train)\n",
        "\n",
        "\n",
        "\n",
        "# predict -->Make predictions on the test set\n",
        "y_pred = rf_classifier.predict(X_test)\n",
        "\n",
        "# evaluate the performance of a model.\n",
        "\n",
        "#accuracy_score --> comparing the predicted labels (y_pred) with the actual labels (y_test).\n",
        "accuracy = accuracy_score(y_test, y_pred)\n",
        "print(\"Accuracy:\", accuracy)\n",
        "\n",
        "# average of the absolute differences between the predicted values and the actual values\n",
        "mae = mean_absolute_error(y_test, y_pred)\n",
        "print('\\nMean absolute error:', mae)\n",
        "\n",
        "\n"
      ]
    },
    {
      "cell_type": "markdown",
      "metadata": {
        "id": "wUed15zmRbMR"
      },
      "source": [
        "#**parameter tuning**"
      ]
    },
    {
      "cell_type": "code",
      "execution_count": null,
      "metadata": {
        "colab": {
          "background_save": true
        },
        "id": "z3aMzcbMRcXm",
        "outputId": "4ce840fa-0304-4a02-c2ad-78521c6e9648"
      },
      "outputs": [
        {
          "name": "stdout",
          "output_type": "stream",
          "text": [
            "Best parameters: {'n_estimators': 100, 'min_samples_split': 10, 'min_samples_leaf': 4, 'max_features': 'sqrt', 'max_depth': 10}\n"
          ]
        },
        {
          "ename": "AttributeError",
          "evalue": "ignored",
          "output_type": "error",
          "traceback": [
            "\u001b[0;31m---------------------------------------------------------------------------\u001b[0m",
            "\u001b[0;31mAttributeError\u001b[0m                            Traceback (most recent call last)",
            "\u001b[0;32m<ipython-input-16-4bb42855eea6>\u001b[0m in \u001b[0;36m<cell line: 22>\u001b[0;34m()\u001b[0m\n\u001b[1;32m     20\u001b[0m \u001b[0;31m# Print the best parameters and score\u001b[0m\u001b[0;34m\u001b[0m\u001b[0;34m\u001b[0m\u001b[0m\n\u001b[1;32m     21\u001b[0m \u001b[0mprint\u001b[0m\u001b[0;34m(\u001b[0m\u001b[0;34m'Best parameters:'\u001b[0m\u001b[0;34m,\u001b[0m \u001b[0mrf_random\u001b[0m\u001b[0;34m.\u001b[0m\u001b[0mbest_params_\u001b[0m\u001b[0;34m)\u001b[0m\u001b[0;34m\u001b[0m\u001b[0;34m\u001b[0m\u001b[0m\n\u001b[0;32m---> 22\u001b[0;31m \u001b[0mprint\u001b[0m\u001b[0;34m(\u001b[0m\u001b[0;34m'Best score:'\u001b[0m\u001b[0;34m,\u001b[0m \u001b[0mrf_random\u001b[0m\u001b[0;34m.\u001b[0m\u001b[0mbest_score\u001b[0m\u001b[0;34m)\u001b[0m\u001b[0;34m\u001b[0m\u001b[0;34m\u001b[0m\u001b[0m\n\u001b[0m",
            "\u001b[0;31mAttributeError\u001b[0m: 'RandomizedSearchCV' object has no attribute 'best_score'"
          ]
        }
      ],
      "source": [
        "\n",
        "from sklearn.model_selection import RandomizedSearchCV\n",
        "\n",
        "# Define the parameter space\n",
        "param_dist = {'n_estimators': [50, 100, 200],\n",
        "              'max_depth': [10, 20, 30, None],\n",
        "              'min_samples_split': [2, 5, 10],\n",
        "              'min_samples_leaf': [1, 2, 4],\n",
        "              'max_features': ['sqrt', 'log2', None]}\n",
        "\n",
        "# Create a random forest classifier\n",
        "rf = RandomForestClassifier(random_state=42)\n",
        "\n",
        "# Perform a randomized search over the parameter space\n",
        "rf_random = RandomizedSearchCV(estimator=rf, param_distributions=param_dist,\n",
        "                               n_iter=100, cv=5, random_state=42)\n",
        "\n",
        "# Fit the randomized search to the training data\n",
        "rf_random.fit(X_train, y_train)\n",
        "\n",
        "# Print the best parameters and score\n",
        "print('Best parameters:', rf_random.best_params_)\n",
        "print('Best score:', rf_random.best_score)"
      ]
    }
  ],
  "metadata": {
    "colab": {
      "provenance": [],
      "include_colab_link": true
    },
    "kernelspec": {
      "display_name": "Python 3",
      "name": "python3"
    },
    "language_info": {
      "name": "python"
    }
  },
  "nbformat": 4,
  "nbformat_minor": 0
}